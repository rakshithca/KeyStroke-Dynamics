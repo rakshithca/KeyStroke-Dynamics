{
 "cells": [
  {
   "cell_type": "code",
   "execution_count": 2,
   "metadata": {},
   "outputs": [],
   "source": [
    "import pyHook\n",
    "import pythoncom\n",
    "import os\n",
    "import matplotlib.pyplot as plt\n",
    "import json\n",
    "import numpy as np\n",
    "import sys\n",
    "import pandas as pd\n",
    "from IPython.display import clear_output\n",
    "import csv"
   ]
  },
  {
   "cell_type": "code",
   "execution_count": 3,
   "metadata": {},
   "outputs": [],
   "source": [
    "global userName\n",
    "userFilePath = \"Collecting_keyStorke.csv\""
   ]
  },
  {
   "cell_type": "code",
   "execution_count": null,
   "metadata": {},
   "outputs": [],
   "source": []
  },
  {
   "cell_type": "code",
   "execution_count": 6,
   "metadata": {},
   "outputs": [
    {
     "name": "stdout",
     "output_type": "stream",
     "text": [
      "Enter your Name: rakshith\n",
      "Enter your text: \n",
      "biometrics-\u0000CS-559\n",
      "ouput\n",
      "[('rakshith', 13, 'Up', 23933390), ('rakshith', 98, 'Down', 23935312), ('rakshith', 98, 'Up', 23935406), ('rakshith', 105, 'Down', 23935562), ('rakshith', 105, 'Up', 23935671), ('rakshith', 111, 'Down', 23936062), ('rakshith', 111, 'Up', 23936171), ('rakshith', 109, 'Down', 23936890), ('rakshith', 109, 'Up', 23936968), ('rakshith', 101, 'Down', 23938125), ('rakshith', 101, 'Up', 23938187), ('rakshith', 116, 'Down', 23938875), ('rakshith', 116, 'Up', 23938984), ('rakshith', 114, 'Down', 23939812), ('rakshith', 114, 'Up', 23939890), ('rakshith', 105, 'Down', 23940203), ('rakshith', 105, 'Up', 23940343), ('rakshith', 99, 'Down', 23940687), ('rakshith', 99, 'Up', 23940765), ('rakshith', 115, 'Down', 23941093), ('rakshith', 115, 'Up', 23941203), ('rakshith', 45, 'Down', 23942250), ('rakshith', 45, 'Up', 23942359), ('rakshith', 0, 'Down', 23943625), ('rakshith', 0, 'Up', 23943703), ('rakshith', 67, 'Down', 23944171), ('rakshith', 67, 'Up', 23944296), ('rakshith', 83, 'Down', 23944453), ('rakshith', 83, 'Up', 23944531), ('rakshith', 45, 'Down', 23945156), ('rakshith', 45, 'Up', 23945281), ('rakshith', 53, 'Down', 23948046), ('rakshith', 53, 'Up', 23948140), ('rakshith', 53, 'Down', 23948265), ('rakshith', 53, 'Up', 23948375), ('rakshith', 57, 'Down', 23948875), ('rakshith', 57, 'Up', 23948968), ('rakshith', 13, 'Down', 23951109), ('rakshith', 13, 'Up', 23951187), ('rakshith', 27, 'Down', 23952390)]\n"
     ]
    }
   ],
   "source": [
    "class KeyLogger:\n",
    "    def __init__(self):\n",
    "        self.enterPressed = False\n",
    "        self.eventList = []\n",
    "        self.isCaps = False\n",
    "        #self.message = \"\"\n",
    "        \n",
    "    def keyDownEvent(self, event):\n",
    "        if event.KeyID == 20 and self.isCaps == False:\n",
    "            self.isCaps = True\n",
    "        elif event.KeyID == 20 and self.isCaps == True:\n",
    "            self.isCaps = False     \n",
    "        if event.KeyID>= 48 and event.KeyID<=57:\n",
    "            event.Ascii = event.KeyID\n",
    "        if self.isCaps == True and event.Ascii>=97 and event.Ascii<=122:\n",
    "            event.Ascii = event.KeyID\n",
    "        self.storeEvent(\"Down\", event) \n",
    "        return True\n",
    "        # Fixes Requires Integer Bug (Got Nonetype)\n",
    "\n",
    "    def keyUpEvent(self, event): \n",
    "        if event.KeyID>= 48 and event.KeyID<=57:\n",
    "            event.Ascii = event.KeyID\n",
    "        if self.isCaps == True and event.Ascii>=97 and event.Ascii<=122:\n",
    "            event.Ascii = event.KeyID\n",
    "        print(chr(event.Ascii),end='')\n",
    "        self.storeEvent(\"Up\", event)\n",
    "        return True\n",
    "\n",
    "    def mainLoop(self):\n",
    "        while not self.enterPressed:\n",
    "            pythoncom.PumpWaitingMessages()\n",
    "\n",
    "    def storeEvent(self, activity, event):\n",
    "        keystrokeTime = int(event.Time)\n",
    "        self.eventList.append ((userName,event.Ascii,activity, int(keystrokeTime)))\n",
    "\n",
    "        # Chosen to use Escape key (ESC) due to input using a similar method\n",
    "        # Enter Key - KeyCode: 13 Ascii: 13 ScanCode: 28 - ESC = 27 @ Ascii\n",
    "        if event.Ascii == 27:\n",
    "            self.enterPressed = True\n",
    "            userRecordData(self.eventList)\n",
    "\n",
    "def userRecordData(eventList):\n",
    "    print(\"\\nouput\")\n",
    "    print(eventList)\n",
    "    with open(userFilePath,'a',newline='\\n') as f:\n",
    "        writer = csv.writer(f)\n",
    "        writer.writerows(eventList)\n",
    "    f.close()   \n",
    "    \n",
    "def getUserName():\n",
    "    global userName\n",
    "    userName = input(\"Enter your Name: \")\n",
    "\n",
    "def getKeyStroke():\n",
    "    \n",
    "    keyLogger = KeyLogger()\n",
    "    hookManager = pyHook.HookManager()\n",
    "    hookManager.KeyDown = keyLogger.keyDownEvent\n",
    "    hookManager.KeyUp = keyLogger.keyUpEvent\n",
    "    hookManager.HookKeyboard()\n",
    "\n",
    "    keyLogger.mainLoop()\n",
    "    # Unhooks the keyboard, no more data recorded, returns to menu\n",
    "    hookManager.UnhookKeyboard()\n",
    "    \n",
    "getUserName()\n",
    "print(\"Enter your text: \")\n",
    "getKeyStroke()"
   ]
  },
  {
   "cell_type": "raw",
   "metadata": {},
   "source": []
  },
  {
   "cell_type": "raw",
   "metadata": {},
   "source": []
  },
  {
   "cell_type": "code",
   "execution_count": null,
   "metadata": {},
   "outputs": [],
   "source": []
  },
  {
   "cell_type": "code",
   "execution_count": null,
   "metadata": {},
   "outputs": [],
   "source": []
  },
  {
   "cell_type": "code",
   "execution_count": null,
   "metadata": {},
   "outputs": [],
   "source": []
  },
  {
   "cell_type": "raw",
   "metadata": {},
   "source": []
  }
 ],
 "metadata": {
  "kernelspec": {
   "display_name": "Python 3",
   "language": "python",
   "name": "python3"
  },
  "language_info": {
   "codemirror_mode": {
    "name": "ipython",
    "version": 3
   },
   "file_extension": ".py",
   "mimetype": "text/x-python",
   "name": "python",
   "nbconvert_exporter": "python",
   "pygments_lexer": "ipython3",
   "version": "3.7.3"
  }
 },
 "nbformat": 4,
 "nbformat_minor": 2
}
